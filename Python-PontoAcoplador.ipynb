{
 "cells": [
  {
   "cell_type": "markdown",
   "metadata": {},
   "source": [
    "## Template para o cálculo dos deslocamentos, velocidades e acelerações para pontos do acoplador\n",
    "---\n",
    "### A função $P()$ retorna uma matriz coluna com os deslocamentos $x$<sub>p</sub>. e $y$<sub>p</sub>.\n",
    "### A função $\\dot P()$ retorna uma matriz coluna com as velocidades $\\dot x$<sub>p</sub>. e $\\dot y$<sub>p</sub>.\n",
    "### A função $\\ddot P()$ retorna uma matriz coluna com as acelerações $\\ddot x$<sub>p</sub>. e $\\ddot y$<sub>p</sub>.\n",
    "- Estas três funções não recebem argumentos e podem ser usadas no meio de expressões, porém requerem o uso do parêntesis, *vazios*.\n",
    "       \n",
    "A célula a seguir só deve ser rodada uma única vez, no início e, **em hipótese alguma** deve ser modificada"
   ]
  },
  {
   "cell_type": "code",
   "execution_count": null,
   "metadata": {},
   "outputs": [],
   "source": [
    "from sympy import *\n",
    "from IPython.display import display\n",
    "\n",
    "def SetupGlobalVars():\n",
    "    global M,U,Xₒ,Ẋₒ,Ẍₒ,u,v,sᵢ,xₒ,yₒ,ẋₒ,ẏₒ,ẍₒ,ÿₒ\n",
    "    M  = Matrix([[cos(sᵢ), -sin(sᵢ)],[sin(sᵢ), cos(sᵢ)]])\n",
    "    U  = Matrix([u,v])\n",
    "    Xₒ = Matrix([xₒ,yₒ])\n",
    "    Ẋₒ = Matrix([ẋₒ,ẏₒ])\n",
    "    Ẍₒ = Matrix([ẍₒ,ÿₒ]) \n",
    "\n",
    "def P():\n",
    "    return Xₒ + M*U\n",
    "\n",
    "def Ṗ():\n",
    "    Ω = Matrix([[0, -1],[1,0]])\n",
    "    return Ẋₒ + ṡᵢ*M*Ω*U\n",
    "\n",
    "def P̈():\n",
    "    Γ = Matrix([[ṡᵢ**2, s̈ᵢ],[-s̈ᵢ, ṡᵢ**2]])\n",
    "    return Ẍₒ - M*Γ*U"
   ]
  },
  {
   "cell_type": "markdown",
   "metadata": {},
   "source": [
    "### Utilização do template:\n",
    "   * Primeiramente devem ser definidas as variáveis simbólicas a serem utilizadas, tais como constantes representativas dos comprimentos das barras, coordenadas generalizadas e as variávesl representativas das velociades;\n",
    "   \n",
    "#### Exemplo de Uso\n",
    "O ponto do acoplador sobre a biela do mecanismo biela manivela, da figura abaixo, vai servir como exemplo na criação das variáveis e uso da função acima.\n",
    "\n",
    "![Ponto acoplador no Bieal Manivela](https://dc696.4shared.com/img/KidVzsorea/172c5017aa0/PtAcoplador.png)\n",
    "\n",
    "Vejamos então como fica a codificação na célula abaixo."
   ]
  },
  {
   "cell_type": "code",
   "execution_count": null,
   "metadata": {},
   "outputs": [],
   "source": [
    "a,b = symbols('a b')                         # constantes para \"u\" e \"v\"\n",
    "x,ẋ,ẍ = symbols('x \\\\dot{x} \\\\ddot{x}')      # variáveis envolvidas on ponto O'\n",
    "φ,φₜ,φₜₜ = symbols('varphi \\\\dot{\\\\varphi} \\\\ddot{\\\\varphi}')  # Coord. para si\n",
    "\n",
    "u  = b/2;  v  = -a\n",
    "sᵢ = pi-φ; ṡᵢ = φₜ; s̈ᵢ = -φₜₜ\n",
    "xₒ = x;    ẋₒ = ẋ;  ẍₒ  = ẍ\n",
    "yₒ = 0;    ẏₒ = 0;  ÿₒ  = 0\n",
    "\n",
    "SetupGlobalVars()                            # Inicia todas as variáveis\n",
    "display(P());  display(Ṗ()); display(P̈())   # Impressão dos resultados"
   ]
  }
 ],
 "metadata": {
  "kernelspec": {
   "display_name": "Python 3",
   "language": "python",
   "name": "python3"
  },
  "language_info": {
   "codemirror_mode": {
    "name": "ipython",
    "version": 3
   },
   "file_extension": ".py",
   "mimetype": "text/x-python",
   "name": "python",
   "nbconvert_exporter": "python",
   "pygments_lexer": "ipython3",
   "version": "3.8.5"
  }
 },
 "nbformat": 4,
 "nbformat_minor": 4
}
