{
  "nbformat": 4,
  "nbformat_minor": 0,
  "metadata": {
    "kernelspec": {
      "display_name": "Python 3",
      "language": "python",
      "name": "python3"
    },
    "language_info": {
      "codemirror_mode": {
        "name": "ipython",
        "version": 3
      },
      "file_extension": ".py",
      "mimetype": "text/x-python",
      "name": "python",
      "nbconvert_exporter": "python",
      "pygments_lexer": "ipython3",
      "version": "3.8.5"
    },
    "colab": {
      "name": "Python-PontoAcoplador.ipynb",
      "provenance": []
    }
  },
  "cells": [
    {
      "cell_type": "markdown",
      "metadata": {
        "id": "rW92gNKjUdGF"
      },
      "source": [
        "## Template para o cálculo dos deslocamentos, velocidades e acelerações para pontos do acoplador\n",
        "---\n",
        "### A função $P()$ retorna uma matriz coluna com os deslocamentos $x$<sub>p</sub>. e $y$<sub>p</sub>.\n",
        "### A função $\\dot P()$ retorna uma matriz coluna com as velocidades $\\dot x$<sub>p</sub>. e $\\dot y$<sub>p</sub>.\n",
        "### A função $\\ddot P()$ retorna uma matriz coluna com as acelerações $\\ddot x$<sub>p</sub>. e $\\ddot y$<sub>p</sub>.\n",
        "- Estas três funções não recebem argumentos e podem ser usadas no meio de expressões, porém requerem o uso do parêntesis, *vazios*.\n",
        "       \n",
        "A célula a seguir só deve ser rodada uma única vez, no início e, **em hipótese alguma** deve ser modificada"
      ]
    },
    {
      "cell_type": "code",
      "metadata": {
        "id": "ALXkggaPUdGI"
      },
      "source": [
        "from sympy import *\n",
        "init_printing(use_latex='mathjax')\n",
        "from IPython.display import display\n",
        "\n",
        "def SetupGlobalVars():\n",
        "    global M,U,Xₒ,Ẋₒ,Ẍₒ,u,v,sᵢ,xₒ,yₒ,ẋₒ,ẏₒ,ẍₒ,ÿₒ\n",
        "    M  = Matrix([[cos(sᵢ), -sin(sᵢ)],[sin(sᵢ), cos(sᵢ)]])\n",
        "    U  = Matrix([u,v])\n",
        "    Xₒ = Matrix([xₒ,yₒ])\n",
        "    Ẋₒ = Matrix([ẋₒ,ẏₒ])\n",
        "    Ẍₒ = Matrix([ẍₒ,ÿₒ]) \n",
        "\n",
        "def P():\n",
        "    return Xₒ + M*U\n",
        "\n",
        "def Ṗ():\n",
        "    Ω = Matrix([[0, -1],[1,0]])\n",
        "    return Ẋₒ + ṡᵢ*M*Ω*U\n",
        "\n",
        "def P̈():\n",
        "    Γ = Matrix([[ṡᵢ**2, s̈ᵢ],[-s̈ᵢ, ṡᵢ**2]])\n",
        "    return Ẍₒ - M*Γ*U"
      ],
      "execution_count": 3,
      "outputs": []
    },
    {
      "cell_type": "markdown",
      "metadata": {
        "id": "kbrcj4rEUdGU"
      },
      "source": [
        "### Utilização do template:\n",
        "   * Primeiramente devem ser definidas as variáveis simbólicas a serem utilizadas, tais como constantes representativas dos comprimentos das barras, coordenadas generalizadas e as variávesl representativas das velociades;\n",
        "   \n",
        "#### Exemplo de Uso\n",
        "O ponto do acoplador sobre a biela do mecanismo biela manivela, da figura abaixo, vai servir como exemplo na criação das variáveis e uso da função acima.\n",
        "\n",
        "![Ponto acoplador no Bieal Manivela](https://dc696.4shared.com/img/KidVzsorea/172c5017aa0/PtAcoplador.png)\n",
        "\n",
        "Vejamos então como fica a codificação na célula abaixo."
      ]
    },
    {
      "cell_type": "code",
      "metadata": {
        "id": "AYbTKKypUdGZ",
        "outputId": "310e84e5-357d-4c8d-ea9c-09df860eb2ea",
        "colab": {
          "base_uri": "https://localhost:8080/",
          "height": 145
        }
      },
      "source": [
        "a,b = symbols('a b')                         # constantes para \"u\" e \"v\"\n",
        "x,ẋ,ẍ = symbols('x \\\\dot{x} \\\\ddot{x}')      # variáveis envolvidas on ponto O'\n",
        "φ,φₜ,φₜₜ = symbols('varphi \\\\dot{\\\\varphi} \\\\ddot{\\\\varphi}')  # Coord. para si\n",
        "\n",
        "u  = b/2;  v  = -a\n",
        "sᵢ = pi-φ; ṡᵢ = φₜ; s̈ᵢ = -φₜₜ\n",
        "xₒ = x;    ẋₒ = ẋ;  ẍₒ  = ẍ\n",
        "yₒ = 0;    ẏₒ = 0;  ÿₒ  = 0\n",
        "\n",
        "SetupGlobalVars()                            # Inicia todas as variáveis\n",
        "display(P());  display(Ṗ()); display(P̈())   # Impressão dos resultados"
      ],
      "execution_count": 4,
      "outputs": [
        {
          "output_type": "display_data",
          "data": {
            "text/latex": "$$\\left[\\begin{matrix}a \\sin{\\left (\\varphi \\right )} - \\frac{b}{2} \\cos{\\left (\\varphi \\right )} + x\\\\a \\cos{\\left (\\varphi \\right )} + \\frac{b}{2} \\sin{\\left (\\varphi \\right )}\\end{matrix}\\right]$$",
            "text/plain": [
              "⎡                b⋅cos(varphi)    ⎤\n",
              "⎢a⋅sin(varphi) - ───────────── + x⎥\n",
              "⎢                      2          ⎥\n",
              "⎢                                 ⎥\n",
              "⎢                  b⋅sin(varphi)  ⎥\n",
              "⎢  a⋅cos(varphi) + ─────────────  ⎥\n",
              "⎣                        2        ⎦"
            ]
          },
          "metadata": {
            "tags": []
          }
        },
        {
          "output_type": "display_data",
          "data": {
            "text/latex": "$$\\left[\\begin{matrix}- \\dot{\\varphi} a \\cos{\\left (\\varphi \\right )} - \\frac{\\dot{\\varphi} b}{2} \\sin{\\left (\\varphi \\right )} + \\dot{x}\\\\\\dot{\\varphi} a \\sin{\\left (\\varphi \\right )} - \\frac{\\dot{\\varphi} b}{2} \\cos{\\left (\\varphi \\right )}\\end{matrix}\\right]$$",
            "text/plain": [
              "⎡                               \\dot{\\varphi}⋅b⋅sin(varphi)          ⎤\n",
              "⎢-\\dot{\\varphi}⋅a⋅cos(varphi) - ─────────────────────────── + \\dot{x}⎥\n",
              "⎢                                            2                       ⎥\n",
              "⎢                                                                    ⎥\n",
              "⎢                                   \\dot{\\varphi}⋅b⋅cos(varphi)      ⎥\n",
              "⎢     \\dot{\\varphi}⋅a⋅sin(varphi) - ───────────────────────────      ⎥\n",
              "⎣                                                2                   ⎦"
            ]
          },
          "metadata": {
            "tags": []
          }
        },
        {
          "output_type": "display_data",
          "data": {
            "text/latex": "$$\\left[\\begin{matrix}\\ddot{x} + a \\left(\\ddot{\\varphi} \\cos{\\left (\\varphi \\right )} - \\dot{\\varphi}^{2} \\sin{\\left (\\varphi \\right )}\\right) - \\frac{b}{2} \\left(- \\ddot{\\varphi} \\sin{\\left (\\varphi \\right )} - \\dot{\\varphi}^{2} \\cos{\\left (\\varphi \\right )}\\right)\\\\a \\left(- \\ddot{\\varphi} \\sin{\\left (\\varphi \\right )} - \\dot{\\varphi}^{2} \\cos{\\left (\\varphi \\right )}\\right) - \\frac{b}{2} \\left(- \\ddot{\\varphi} \\cos{\\left (\\varphi \\right )} + \\dot{\\varphi}^{2} \\sin{\\left (\\varphi \\right )}\\right)\\end{matrix}\\right]$$",
            "text/plain": [
              "⎡                                                                           ⎛ \n",
              "⎢             ⎛                                          2            ⎞   b⋅⎝-\n",
              "⎢\\ddot{x} + a⋅⎝\\ddot{\\varphi}⋅cos(varphi) - \\dot{\\varphi} ⋅sin(varphi)⎠ - ────\n",
              "⎢                                                                             \n",
              "⎢                                                                             \n",
              "⎢                                                                      ⎛      \n",
              "⎢       ⎛                                           2            ⎞   b⋅⎝-\\ddot\n",
              "⎢     a⋅⎝-\\ddot{\\varphi}⋅sin(varphi) - \\dot{\\varphi} ⋅cos(varphi)⎠ - ─────────\n",
              "⎣                                                                             \n",
              "\n",
              "                                          2            ⎞⎤\n",
              "\\ddot{\\varphi}⋅sin(varphi) - \\dot{\\varphi} ⋅cos(varphi)⎠⎥\n",
              "────────────────────────────────────────────────────────⎥\n",
              "                         2                              ⎥\n",
              "                                                        ⎥\n",
              "                                     2            ⎞     ⎥\n",
              "{\\varphi}⋅cos(varphi) + \\dot{\\varphi} ⋅sin(varphi)⎠     ⎥\n",
              "───────────────────────────────────────────────────     ⎥\n",
              "                    2                                   ⎦"
            ]
          },
          "metadata": {
            "tags": []
          }
        }
      ]
    },
    {
      "cell_type": "code",
      "metadata": {
        "id": "fYKsl3HVU4Yh"
      },
      "source": [
        ""
      ],
      "execution_count": null,
      "outputs": []
    }
  ]
}