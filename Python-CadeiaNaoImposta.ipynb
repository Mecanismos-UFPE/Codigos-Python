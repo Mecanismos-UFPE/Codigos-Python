{
 "cells": [
  {
   "cell_type": "code",
   "execution_count": null,
   "metadata": {},
   "outputs": [],
   "source": [
    "from sympy import *\n",
    "from IPython.display import display"
   ]
  },
  {
   "cell_type": "code",
   "execution_count": null,
   "metadata": {},
   "outputs": [],
   "source": [
    "def MecSolve(Cg,Eq,Vg):         # Cg,Vg Coords e Veloc Generalizadas\n",
    "    global K, L                 # Passagem de K e L globalmente\n",
    "    f = len(Cg)-len(Eq)\n",
    "    Eq = Matrix(Eq)\n",
    "    J = Eq.jacobian(Cg[f:])     # Jacobiano do sistema\n",
    "    F = Eq.jacobian([Cg[:f]])   # Obtenção da matriz F\n",
    "    K = simplify(-(J**-1)*F)    # Obtenção da matriz K\n",
    "    \n",
    "    L = Matrix([])\n",
    "    for i in range(f):          # Obtenção da matriz L\n",
    "        Lprov = K.col(i).jacobian(Cg[:f])*Matrix(Vg[:f]) + K.col(i).jacobian(Cg[f:])*Matrix(Vg[f:])\n",
    "        L = L.row_join(Lprov)"
   ]
  },
  {
   "cell_type": "code",
   "execution_count": null,
   "metadata": {},
   "outputs": [],
   "source": [
    "                    #===============================================#\n",
    "                    # Código a ser modificado em função do problema #\n",
    "                    #===============================================#\n",
    "a,b,c = symbols('a b c')                                                           # Constantes\n",
    "θ1,θ2,ϕ,x = symbols('theta_1 theta_2 varphi x')                                    # Coords Generalizadas\n",
    "θ1ₜ,θ2ₜ,ϕₜ,xₜ = symbols('\\\\dot{\\\\theta_1} \\\\dot{\\\\theta_2} \\\\dot{\\\\varphi} \\\\dot{x}') # Velocs Generalizadas\n",
    "θ1ₜₜ,θ2ₜₜ = symbols('\\\\ddot{\\\\theta_1} \\\\ddot{\\\\theta_2}')                            # Acel. principais\n",
    "\n",
    "f1 = a*cos(θ1) + x*cos(ϕ) - b*cos(θ2) - c                                          # Eq. Restrição\n",
    "f2 = a*sin(θ1) + x*sin(ϕ) - b*sin(θ2)\n",
    "MecSolve( [θ1,θ2,ϕ,x], [f1,f2], [θ1ₜ,θ2ₜ,ϕₜ,xₜ] )                                     # Cahmada da função\n",
    "\n",
    "display( K*Matrix([θ1ₜ,θ2ₜ]) );  display( K*Matrix([θ1ₜₜ,θ2ₜₜ]) + L*Matrix([θ1ₜ,θ2ₜ]) )"
   ]
  }
 ],
 "metadata": {
  "kernelspec": {
   "display_name": "Python 3",
   "language": "python",
   "name": "python3"
  },
  "language_info": {
   "codemirror_mode": {
    "name": "ipython",
    "version": 3
   },
   "file_extension": ".py",
   "mimetype": "text/x-python",
   "name": "python",
   "nbconvert_exporter": "python",
   "pygments_lexer": "ipython3",
   "version": "3.6.10"
  }
 },
 "nbformat": 4,
 "nbformat_minor": 2
}
